{
 "cells": [
  {
   "cell_type": "code",
   "execution_count": 1,
   "metadata": {},
   "outputs": [
    {
     "name": "stderr",
     "output_type": "stream",
     "text": [
      "c:\\Users\\ct832900\\AppData\\Local\\miniconda3\\envs\\wsahuxt\\lib\\site-packages\\pandas\\core\\computation\\expressions.py:21: UserWarning: Pandas requires version '2.8.4' or newer of 'numexpr' (version '2.7.3' currently installed).\n",
      "  from pandas.core.computation.check import NUMEXPR_INSTALLED\n",
      "c:\\Users\\ct832900\\AppData\\Local\\miniconda3\\envs\\wsahuxt\\lib\\site-packages\\tqdm\\auto.py:21: TqdmWarning: IProgress not found. Please update jupyter and ipywidgets. See https://ipywidgets.readthedocs.io/en/stable/user_install.html\n",
      "  from .autonotebook import tqdm as notebook_tqdm\n"
     ]
    }
   ],
   "source": [
    "import multiprocessing\n",
    "import huxt as H\n",
    "import huxt_ensemble_functions as hef\n",
    "import numpy as np\n",
    "import pandas as pd\n",
    "import astropy.units as u\n",
    "import datetime\n",
    "import re\n",
    "import time"
   ]
  },
  {
   "cell_type": "code",
   "execution_count": 2,
   "metadata": {},
   "outputs": [
    {
     "name": "stdout",
     "output_type": "stream",
     "text": [
      "sigma latitude = 40: parameters initialised\n"
     ]
    },
    {
     "ename": "ValueError",
     "evalue": "arange: cannot compute length",
     "output_type": "error",
     "traceback": [
      "\u001b[1;31m---------------------------------------------------------------------------\u001b[0m",
      "\u001b[1;31mRemoteTraceback\u001b[0m                           Traceback (most recent call last)",
      "\u001b[1;31mRemoteTraceback\u001b[0m: \n\"\"\"\nTraceback (most recent call last):\n  File \"c:\\Users\\ct832900\\AppData\\Local\\miniconda3\\envs\\wsahuxt\\lib\\multiprocessing\\pool.py\", line 125, in worker\n    result = (True, func(*args, **kwds))\n  File \"c:\\Users\\ct832900\\AppData\\Local\\miniconda3\\envs\\wsahuxt\\lib\\multiprocessing\\pool.py\", line 48, in mapstar\n    return list(map(*args))\n  File \"c:\\Users\\ct832900\\Desktop\\Research_Code\\WSA_calibration\\code\\huxt_ensemble_functions.py\", line 265, in generate_ensemble_forecast\n    model.solve([])\n  File \"c:\\Users\\ct832900\\AppData\\Local\\miniconda3\\envs\\wsahuxt\\lib\\site-packages\\astropy\\units\\decorators.py\", line 313, in wrapper\n    return_ = wrapped_function(*func_args, **func_kwargs)\n  File \"c:\\Users\\ct832900\\Desktop\\Research_Code\\WSA_calibration\\code\\huxt.py\", line 854, in solve\n    self.ts_from_vlong()\n  File \"c:\\Users\\ct832900\\Desktop\\Research_Code\\WSA_calibration\\code\\huxt.py\", line 789, in ts_from_vlong\n    model_time = np.arange(-buffertime.value, (self.simtime.to('s') + self.dt).value, self.dt.value) * self.dt.unit\nValueError: arange: cannot compute length\n\"\"\"",
      "\nThe above exception was the direct cause of the following exception:\n",
      "\u001b[1;31mValueError\u001b[0m                                Traceback (most recent call last)",
      "Cell \u001b[1;32mIn[2], line 85\u001b[0m\n\u001b[0;32m     81\u001b[0m \u001b[38;5;66;03m# initialise parallel processing for ensemble generation\u001b[39;00m\n\u001b[0;32m     82\u001b[0m \u001b[38;5;66;03m#multiprocessing.set_start_method('spawn')\u001b[39;00m\n\u001b[0;32m     84\u001b[0m \u001b[38;5;28;01mwith\u001b[39;00m multiprocessing\u001b[38;5;241m.\u001b[39mPool(processes\u001b[38;5;241m=\u001b[39m\u001b[38;5;241m4\u001b[39m) \u001b[38;5;28;01mas\u001b[39;00m pool:\n\u001b[1;32m---> 85\u001b[0m     \u001b[43mpool\u001b[49m\u001b[38;5;241;43m.\u001b[39;49m\u001b[43mmap\u001b[49m\u001b[43m(\u001b[49m\u001b[43mhef\u001b[49m\u001b[38;5;241;43m.\u001b[39;49m\u001b[43mgenerate_ensemble_forecast\u001b[49m\u001b[43m,\u001b[49m\u001b[43m \u001b[49m\u001b[43minput_params\u001b[49m\u001b[43m)\u001b[49m\n\u001b[0;32m     87\u001b[0m t2 \u001b[38;5;241m=\u001b[39m time\u001b[38;5;241m.\u001b[39mtime()\n\u001b[0;32m     89\u001b[0m \u001b[38;5;28mprint\u001b[39m(\u001b[38;5;124mf\u001b[39m\u001b[38;5;124m'\u001b[39m\u001b[38;5;132;01m{\u001b[39;00m\u001b[38;5;28mlen\u001b[39m(fname_list)\u001b[38;5;132;01m}\u001b[39;00m\u001b[38;5;124m size \u001b[39m\u001b[38;5;132;01m{\u001b[39;00mensemble_size\u001b[38;5;132;01m}\u001b[39;00m\u001b[38;5;124m ensembles took \u001b[39m\u001b[38;5;132;01m{\u001b[39;00mt2\u001b[38;5;241m-\u001b[39mt1\u001b[38;5;132;01m:\u001b[39;00m\u001b[38;5;124m.2f\u001b[39m\u001b[38;5;132;01m}\u001b[39;00m\u001b[38;5;124m seconds to generate (\u001b[39m\u001b[38;5;132;01m{\u001b[39;00m(t2\u001b[38;5;241m-\u001b[39mt1)\u001b[38;5;241m/\u001b[39m\u001b[38;5;241m60\u001b[39m\u001b[38;5;132;01m:\u001b[39;00m\u001b[38;5;124m.2f\u001b[39m\u001b[38;5;132;01m}\u001b[39;00m\u001b[38;5;124m mins)\u001b[39m\u001b[38;5;124m'\u001b[39m)\n",
      "File \u001b[1;32mc:\\Users\\ct832900\\AppData\\Local\\miniconda3\\envs\\wsahuxt\\lib\\multiprocessing\\pool.py:364\u001b[0m, in \u001b[0;36mPool.map\u001b[1;34m(self, func, iterable, chunksize)\u001b[0m\n\u001b[0;32m    359\u001b[0m \u001b[38;5;28;01mdef\u001b[39;00m \u001b[38;5;21mmap\u001b[39m(\u001b[38;5;28mself\u001b[39m, func, iterable, chunksize\u001b[38;5;241m=\u001b[39m\u001b[38;5;28;01mNone\u001b[39;00m):\n\u001b[0;32m    360\u001b[0m \u001b[38;5;250m    \u001b[39m\u001b[38;5;124;03m'''\u001b[39;00m\n\u001b[0;32m    361\u001b[0m \u001b[38;5;124;03m    Apply `func` to each element in `iterable`, collecting the results\u001b[39;00m\n\u001b[0;32m    362\u001b[0m \u001b[38;5;124;03m    in a list that is returned.\u001b[39;00m\n\u001b[0;32m    363\u001b[0m \u001b[38;5;124;03m    '''\u001b[39;00m\n\u001b[1;32m--> 364\u001b[0m     \u001b[38;5;28;01mreturn\u001b[39;00m \u001b[38;5;28;43mself\u001b[39;49m\u001b[38;5;241;43m.\u001b[39;49m\u001b[43m_map_async\u001b[49m\u001b[43m(\u001b[49m\u001b[43mfunc\u001b[49m\u001b[43m,\u001b[49m\u001b[43m \u001b[49m\u001b[43miterable\u001b[49m\u001b[43m,\u001b[49m\u001b[43m \u001b[49m\u001b[43mmapstar\u001b[49m\u001b[43m,\u001b[49m\u001b[43m \u001b[49m\u001b[43mchunksize\u001b[49m\u001b[43m)\u001b[49m\u001b[38;5;241;43m.\u001b[39;49m\u001b[43mget\u001b[49m\u001b[43m(\u001b[49m\u001b[43m)\u001b[49m\n",
      "File \u001b[1;32mc:\\Users\\ct832900\\AppData\\Local\\miniconda3\\envs\\wsahuxt\\lib\\multiprocessing\\pool.py:771\u001b[0m, in \u001b[0;36mApplyResult.get\u001b[1;34m(self, timeout)\u001b[0m\n\u001b[0;32m    769\u001b[0m     \u001b[38;5;28;01mreturn\u001b[39;00m \u001b[38;5;28mself\u001b[39m\u001b[38;5;241m.\u001b[39m_value\n\u001b[0;32m    770\u001b[0m \u001b[38;5;28;01melse\u001b[39;00m:\n\u001b[1;32m--> 771\u001b[0m     \u001b[38;5;28;01mraise\u001b[39;00m \u001b[38;5;28mself\u001b[39m\u001b[38;5;241m.\u001b[39m_value\n",
      "File \u001b[1;32mc:\\Users\\ct832900\\AppData\\Local\\miniconda3\\envs\\wsahuxt\\lib\\multiprocessing\\pool.py:125\u001b[0m, in \u001b[0;36mworker\u001b[1;34m()\u001b[0m\n\u001b[0;32m    123\u001b[0m job, i, func, args, kwds \u001b[38;5;241m=\u001b[39m task\n\u001b[0;32m    124\u001b[0m \u001b[38;5;28;01mtry\u001b[39;00m:\n\u001b[1;32m--> 125\u001b[0m     result \u001b[38;5;241m=\u001b[39m (\u001b[38;5;28;01mTrue\u001b[39;00m, func(\u001b[38;5;241m*\u001b[39margs, \u001b[38;5;241m*\u001b[39m\u001b[38;5;241m*\u001b[39mkwds))\n\u001b[0;32m    126\u001b[0m \u001b[38;5;28;01mexcept\u001b[39;00m \u001b[38;5;167;01mException\u001b[39;00m \u001b[38;5;28;01mas\u001b[39;00m e:\n\u001b[0;32m    127\u001b[0m     \u001b[38;5;28;01mif\u001b[39;00m wrap_exception \u001b[38;5;129;01mand\u001b[39;00m func \u001b[38;5;129;01mis\u001b[39;00m \u001b[38;5;129;01mnot\u001b[39;00m _helper_reraises_exception:\n",
      "File \u001b[1;32mc:\\Users\\ct832900\\AppData\\Local\\miniconda3\\envs\\wsahuxt\\lib\\multiprocessing\\pool.py:48\u001b[0m, in \u001b[0;36mmapstar\u001b[1;34m()\u001b[0m\n\u001b[0;32m     47\u001b[0m \u001b[38;5;28;01mdef\u001b[39;00m \u001b[38;5;21mmapstar\u001b[39m(args):\n\u001b[1;32m---> 48\u001b[0m     \u001b[38;5;28;01mreturn\u001b[39;00m \u001b[38;5;28mlist\u001b[39m(\u001b[38;5;28mmap\u001b[39m(\u001b[38;5;241m*\u001b[39margs))\n",
      "File \u001b[1;32mc:\\Users\\ct832900\\Desktop\\Research_Code\\WSA_calibration\\code\\huxt_ensemble_functions.py:265\u001b[0m, in \u001b[0;36mgenerate_ensemble_forecast\u001b[1;34m()\u001b[0m\n\u001b[0;32m    261\u001b[0m \u001b[38;5;28;01mfor\u001b[39;00m v_boundary \u001b[38;5;129;01min\u001b[39;00m velocity_boundaries:\n\u001b[0;32m    262\u001b[0m \n\u001b[0;32m    263\u001b[0m     \u001b[38;5;66;03m# set up and run HUXt model. \u001b[39;00m\n\u001b[0;32m    264\u001b[0m     model \u001b[38;5;241m=\u001b[39m H\u001b[38;5;241m.\u001b[39mHUXt(v_boundary\u001b[38;5;241m=\u001b[39mv_boundary\u001b[38;5;241m*\u001b[39m(u\u001b[38;5;241m.\u001b[39mkm\u001b[38;5;241m/\u001b[39mu\u001b[38;5;241m.\u001b[39ms), cr_num\u001b[38;5;241m=\u001b[39mcr, cr_lon_init\u001b[38;5;241m=\u001b[39mcr_lon_init, simtime\u001b[38;5;241m=\u001b[39mforecast_window, dt_scale\u001b[38;5;241m=\u001b[39m\u001b[38;5;241m4\u001b[39m, r_min \u001b[38;5;241m=\u001b[39m r_min)\n\u001b[1;32m--> 265\u001b[0m     model\u001b[38;5;241m.\u001b[39msolve([])\n\u001b[0;32m    267\u001b[0m     \u001b[38;5;66;03m# Extract Earth time series dataFrame\u001b[39;00m\n\u001b[0;32m    268\u001b[0m     df_earth_series \u001b[38;5;241m=\u001b[39m HA\u001b[38;5;241m.\u001b[39mget_observer_timeseries(model, observer \u001b[38;5;241m=\u001b[39m \u001b[38;5;124m'\u001b[39m\u001b[38;5;124mEarth\u001b[39m\u001b[38;5;124m'\u001b[39m)\n",
      "File \u001b[1;32mc:\\Users\\ct832900\\AppData\\Local\\miniconda3\\envs\\wsahuxt\\lib\\site-packages\\astropy\\units\\decorators.py:313\u001b[0m, in \u001b[0;36mwrapper\u001b[1;34m()\u001b[0m\n\u001b[0;32m    311\u001b[0m \u001b[38;5;66;03m# Call the original function with any equivalencies in force.\u001b[39;00m\n\u001b[0;32m    312\u001b[0m \u001b[38;5;28;01mwith\u001b[39;00m add_enabled_equivalencies(\u001b[38;5;28mself\u001b[39m\u001b[38;5;241m.\u001b[39mequivalencies):\n\u001b[1;32m--> 313\u001b[0m     return_ \u001b[38;5;241m=\u001b[39m wrapped_function(\u001b[38;5;241m*\u001b[39mfunc_args, \u001b[38;5;241m*\u001b[39m\u001b[38;5;241m*\u001b[39mfunc_kwargs)\n\u001b[0;32m    315\u001b[0m \u001b[38;5;66;03m# Return\u001b[39;00m\n\u001b[0;32m    316\u001b[0m ra \u001b[38;5;241m=\u001b[39m wrapped_signature\u001b[38;5;241m.\u001b[39mreturn_annotation\n",
      "File \u001b[1;32mc:\\Users\\ct832900\\Desktop\\Research_Code\\WSA_calibration\\code\\huxt.py:854\u001b[0m, in \u001b[0;36msolve\u001b[1;34m()\u001b[0m\n\u001b[0;32m    848\u001b[0m \u001b[38;5;66;03m# ======================================================================\u001b[39;00m\n\u001b[0;32m    849\u001b[0m \u001b[38;5;66;03m# Generate ambient solar wind time series\u001b[39;00m\n\u001b[0;32m    850\u001b[0m \u001b[38;5;66;03m# ======================================================================\u001b[39;00m\n\u001b[0;32m    851\u001b[0m \u001b[38;5;66;03m# If the input time series has not been prescribed,\u001b[39;00m\n\u001b[0;32m    852\u001b[0m \u001b[38;5;66;03m# Generate it from v(long)\u001b[39;00m\n\u001b[0;32m    853\u001b[0m \u001b[38;5;28;01mif\u001b[39;00m \u001b[38;5;129;01mnot\u001b[39;00m \u001b[38;5;28mself\u001b[39m\u001b[38;5;241m.\u001b[39minput_v_ts_flag:\n\u001b[1;32m--> 854\u001b[0m     \u001b[38;5;28mself\u001b[39m\u001b[38;5;241m.\u001b[39mts_from_vlong()\n\u001b[0;32m    856\u001b[0m     \u001b[38;5;66;03m# ======================================================================\u001b[39;00m\n\u001b[0;32m    857\u001b[0m \u001b[38;5;66;03m# Process CME list\u001b[39;00m\n\u001b[0;32m    858\u001b[0m \u001b[38;5;66;03m# ======================================================================\u001b[39;00m\n\u001b[0;32m    859\u001b[0m \u001b[38;5;66;03m# Make a copy of the CME list objects so that the originals are not modified\u001b[39;00m\n\u001b[0;32m    860\u001b[0m input_cme_list \u001b[38;5;241m=\u001b[39m copy\u001b[38;5;241m.\u001b[39mdeepcopy(cme_list)\n",
      "File \u001b[1;32mc:\\Users\\ct832900\\Desktop\\Research_Code\\WSA_calibration\\code\\huxt.py:789\u001b[0m, in \u001b[0;36mts_from_vlong\u001b[1;34m()\u001b[0m\n\u001b[0;32m    787\u001b[0m buffersteps \u001b[38;5;241m=\u001b[39m np\u001b[38;5;241m.\u001b[39mfix(\u001b[38;5;28mself\u001b[39m\u001b[38;5;241m.\u001b[39mbuffertime\u001b[38;5;241m.\u001b[39mto(u\u001b[38;5;241m.\u001b[39ms) \u001b[38;5;241m/\u001b[39m \u001b[38;5;28mself\u001b[39m\u001b[38;5;241m.\u001b[39mdt)\n\u001b[0;32m    788\u001b[0m buffertime \u001b[38;5;241m=\u001b[39m buffersteps \u001b[38;5;241m*\u001b[39m \u001b[38;5;28mself\u001b[39m\u001b[38;5;241m.\u001b[39mdt\n\u001b[1;32m--> 789\u001b[0m model_time \u001b[38;5;241m=\u001b[39m np\u001b[38;5;241m.\u001b[39marange(\u001b[38;5;241m-\u001b[39mbuffertime\u001b[38;5;241m.\u001b[39mvalue, (\u001b[38;5;28mself\u001b[39m\u001b[38;5;241m.\u001b[39msimtime\u001b[38;5;241m.\u001b[39mto(\u001b[38;5;124m'\u001b[39m\u001b[38;5;124ms\u001b[39m\u001b[38;5;124m'\u001b[39m) \u001b[38;5;241m+\u001b[39m \u001b[38;5;28mself\u001b[39m\u001b[38;5;241m.\u001b[39mdt)\u001b[38;5;241m.\u001b[39mvalue, \u001b[38;5;28mself\u001b[39m\u001b[38;5;241m.\u001b[39mdt\u001b[38;5;241m.\u001b[39mvalue) \u001b[38;5;241m*\u001b[39m \u001b[38;5;28mself\u001b[39m\u001b[38;5;241m.\u001b[39mdt\u001b[38;5;241m.\u001b[39munit\n\u001b[0;32m    790\u001b[0m dlondt \u001b[38;5;241m=\u001b[39m \u001b[38;5;28mself\u001b[39m\u001b[38;5;241m.\u001b[39mtwopi \u001b[38;5;241m*\u001b[39m \u001b[38;5;28mself\u001b[39m\u001b[38;5;241m.\u001b[39mdt \u001b[38;5;241m/\u001b[39m \u001b[38;5;28mself\u001b[39m\u001b[38;5;241m.\u001b[39mrotation_period\n\u001b[0;32m    791\u001b[0m lons, dlon, nlon \u001b[38;5;241m=\u001b[39m longitude_grid()\n",
      "\u001b[1;31mValueError\u001b[0m: arange: cannot compute length"
     ]
    }
   ],
   "source": [
    "latitudes_to_run = [40]\n",
    "\n",
    "t0 = time.time()\n",
    "\n",
    "for sigma_latitude in latitudes_to_run:\n",
    "\n",
    "    # get all WSA files with specified keywords\n",
    "    directory_path = H._setup_dirs_()['boundary_conditions']\n",
    "    wsa_file_words = ['wsa_gong'] # keywords to filter for in coronal model file directory\n",
    "    wsa_fnames = hef.get_files_containing_words(directory_path, wsa_file_words)\n",
    "\n",
    "    dates = []\n",
    "    filenames = []\n",
    "\n",
    "    # creating list of filenames of WSA solutions for generating/reading in ensembles\n",
    "    for filename in wsa_fnames:\n",
    "\n",
    "        # Define regular expression patterns to extract the date from file string\n",
    "        pattern = r'21.5rs_(\\d{4})(\\d{2})(\\d{2})(\\d{2})'\n",
    "        pattern2 = r'%2F(\\d{4})%2F(\\d{1,2})%2F(\\d{1,2})%2F'\n",
    "        pattern3 = r'gong_(\\d{4})(\\d{2})(\\d{2})(\\d{2})'\n",
    "\n",
    "        # Match patterns for different WSA file string formats\n",
    "        match = re.search(pattern, filename)\n",
    "        match2 = re.search(pattern2, filename)\n",
    "        match3 = re.search(pattern3, filename)\n",
    "        \n",
    "        if match:\n",
    "            year, month, day, hour = match.groups()\n",
    "            date_string = f'{year}-{month}-{day}--{hour}'\n",
    "            dates.append(datetime.datetime(int(year), int(month), int(day), int(hour)))\n",
    "            filenames.append(filename)\n",
    "        elif match2:\n",
    "            year, month, day = match2.groups()\n",
    "            date_string = f'{year}-{month}-{day}'\n",
    "            dates.append(datetime.datetime(int(year), int(month), int(day), int(0)))\n",
    "            filenames.append(filename)\n",
    "        elif match3:\n",
    "            year, month, day, hour = match3.groups()\n",
    "            date_string = f'{year}-{month}-{day}--{hour}'\n",
    "            dates.append(datetime.datetime(int(year), int(month), int(day), int(hour)))\n",
    "            filenames.append(filename)\n",
    "        else:\n",
    "            print(f\"No date found in the string: {filename}\")\n",
    "\n",
    "    # index filenames by date\n",
    "    df_filenames = pd.DataFrame({'file_string' : filenames}, index = dates)\n",
    "    df_filenames = df_filenames.sort_index()\n",
    "\n",
    "    # specify date range of WAS solutions to generate ensembles for\n",
    "    start_date = datetime.datetime(2019,10,1)\n",
    "    end_date = datetime.datetime(2019,10,2)\n",
    "\n",
    "    # want only 1 solution per day/as close to daily as possible\n",
    "    date_range = pd.date_range(start_date, end_date, freq='D') \n",
    "\n",
    "    # Finding closest indices\n",
    "    indexer = df_filenames.index.get_indexer(date_range, method='nearest')\n",
    "\n",
    "    # Retrieving the closest rows\n",
    "    closest_files = df_filenames.iloc[indexer]\n",
    "\n",
    "    # Dropping duplicates to keep only unique rows\n",
    "    unique_files = closest_files[~closest_files.index.duplicated(keep='first')]\n",
    "\n",
    "    # list of WSA filenames within date_range\n",
    "    fname_list = unique_files['file_string'].to_list()\n",
    "\n",
    "    # Define ensemble params\n",
    "    ensemble_size = 10\n",
    "    forecast_window = 10 * u.day\n",
    "    r_min = 21.5*u.solRad\n",
    "\n",
    "    #create sets of input params for parallel processing\n",
    "    input_params = [(fname, ensemble_size, sigma_latitude, forecast_window, r_min) for fname in fname_list]\n",
    "\n",
    "    print(f'sigma latitude = {sigma_latitude}: parameters initialised')\n",
    "\n",
    "    t1 = time.time()\n",
    "\n",
    "    # initialise parallel processing for ensemble generation\n",
    "    #multiprocessing.set_start_method('spawn')\n",
    "\n",
    "    with multiprocessing.Pool(processes=4) as pool:\n",
    "        pool.map(hef.generate_ensemble_forecast, input_params)\n",
    "\n",
    "    t2 = time.time()\n",
    "\n",
    "    print(f'{len(fname_list)} size {ensemble_size} ensembles took {t2-t1:.2f} seconds to generate ({(t2-t1)/60:.2f} mins)')\n",
    "\n",
    "t4 = time.time()\n",
    "print(f'Ensembles for {len(latitudes_to_run)} latitude scale parameter generated which took {(t4-t0)/60:2f} minutes')"
   ]
  },
  {
   "cell_type": "code",
   "execution_count": null,
   "metadata": {},
   "outputs": [],
   "source": []
  }
 ],
 "metadata": {
  "kernelspec": {
   "display_name": "Python 3",
   "language": "python",
   "name": "python3"
  },
  "language_info": {
   "codemirror_mode": {
    "name": "ipython",
    "version": 3
   },
   "file_extension": ".py",
   "mimetype": "text/x-python",
   "name": "python",
   "nbconvert_exporter": "python",
   "pygments_lexer": "ipython3",
   "version": "3.9.19"
  }
 },
 "nbformat": 4,
 "nbformat_minor": 2
}
